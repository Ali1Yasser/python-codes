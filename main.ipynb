{
 "cells": [
  {
   "cell_type": "code",
   "execution_count": 1,
   "id": "38b78c87",
   "metadata": {},
   "outputs": [
    {
     "name": "stdout",
     "output_type": "stream",
     "text": [
      "enter a command: add\n",
      "enter 1st num: 10\n",
      "enter 2nd num: 5\n",
      "15\n",
      "Would you like to make another operation or not: [yes/stop]: yes\n",
      "enter a command: mult\n",
      "enter 1st num: 8\n",
      "enter 2nd num: 9\n",
      "72\n",
      "Would you like to make another operation or not: [yes/stop]: stop\n"
     ]
    }
   ],
   "source": [
    "from calc import add\n",
    "from calc import sub\n",
    "from calc import mult\n",
    "from calc import div\n",
    "exit_comm=\"yes\"\n",
    "while exit_comm.lower()==\"yes\":\n",
    "    command=input(\"enter a command: \")\n",
    "    op=command.lower()\n",
    "    x=int(input(\"enter 1st num: \"))\n",
    "    y=int(input(\"enter 2nd num: \"))\n",
    "    if op==\"add\":\n",
    "        add(x,y)\n",
    "        exit_comm=input(\"Would you like to make another operation or not: [yes/stop]: \")\n",
    "    elif op==\"sub\":\n",
    "        sub(x,y)\n",
    "        exit_comm=input(\"Would you like to make another operation or not: [yes/stop]: \")\n",
    "    elif op==\"mult\":\n",
    "        mult(x,y)\n",
    "        exit_comm=input(\"Would you like to make another operation or not: [yes/stop]: \")\n",
    "    elif op==\"div\":\n",
    "        div(x,y)\n",
    "        exit_comm=input(\"Would you like to make another operation or not: [yes/stop]: \")\n",
    "    else:\n",
    "        print(\"error code 1 (enter a suitable command)\")\n",
    "        exit_comm=input(\"Would you like to make another operation or not: [yes/stop]: \")"
   ]
  },
  {
   "cell_type": "code",
   "execution_count": null,
   "id": "2db6c063",
   "metadata": {},
   "outputs": [],
   "source": []
  },
  {
   "cell_type": "code",
   "execution_count": null,
   "id": "f026115a",
   "metadata": {},
   "outputs": [],
   "source": []
  }
 ],
 "metadata": {
  "kernelspec": {
   "display_name": "Python 3 (ipykernel)",
   "language": "python",
   "name": "python3"
  },
  "language_info": {
   "codemirror_mode": {
    "name": "ipython",
    "version": 3
   },
   "file_extension": ".py",
   "mimetype": "text/x-python",
   "name": "python",
   "nbconvert_exporter": "python",
   "pygments_lexer": "ipython3",
   "version": "3.10.9"
  }
 },
 "nbformat": 4,
 "nbformat_minor": 5
}
