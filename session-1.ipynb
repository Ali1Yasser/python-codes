{
 "cells": [
  {
   "cell_type": "markdown",
   "id": "f22a5bf6",
   "metadata": {},
   "source": [
    "# introduction"
   ]
  },
  {
   "cell_type": "markdown",
   "id": "984e7f55",
   "metadata": {},
   "source": [
    "## session1"
   ]
  },
  {
   "cell_type": "markdown",
   "id": "25877fef",
   "metadata": {},
   "source": [
    "### this visualization give me info about dist. of people"
   ]
  },
  {
   "cell_type": "code",
   "execution_count": 4,
   "id": "5bb0a9ab",
   "metadata": {},
   "outputs": [
    {
     "name": "stdout",
     "output_type": "stream",
     "text": [
      "hello, world!!!!!\n"
     ]
    }
   ],
   "source": [
    "print(\"hello, world!!!!!\")"
   ]
  },
  {
   "cell_type": "code",
   "execution_count": 5,
   "id": "e7347704",
   "metadata": {},
   "outputs": [],
   "source": [
    "#this variable is constant\n",
    "PROCESS = 5"
   ]
  },
  {
   "cell_type": "code",
   "execution_count": 6,
   "id": "9fd1102d",
   "metadata": {},
   "outputs": [
    {
     "name": "stdout",
     "output_type": "stream",
     "text": [
      "hello\n"
     ]
    }
   ],
   "source": [
    "'''\n",
    "sadasasduaf\n",
    "'''\n",
    "print(\"hello\")"
   ]
  },
  {
   "cell_type": "code",
   "execution_count": 7,
   "id": "aaf5fb22",
   "metadata": {},
   "outputs": [
    {
     "name": "stdout",
     "output_type": "stream",
     "text": [
      "11\n"
     ]
    }
   ],
   "source": [
    "print(5+6)"
   ]
  },
  {
   "cell_type": "code",
   "execution_count": 8,
   "id": "59fdab6c",
   "metadata": {},
   "outputs": [
    {
     "name": "stdout",
     "output_type": "stream",
     "text": [
      "1\n"
     ]
    }
   ],
   "source": [
    "x = 5\n",
    "y = 6\n",
    "print(y-x)"
   ]
  },
  {
   "cell_type": "code",
   "execution_count": 9,
   "id": "0fad3ef0",
   "metadata": {},
   "outputs": [
    {
     "name": "stdout",
     "output_type": "stream",
     "text": [
      "-1\n"
     ]
    }
   ],
   "source": [
    "c=x-y\n",
    "print(c)"
   ]
  },
  {
   "cell_type": "code",
   "execution_count": null,
   "id": "4985aecb",
   "metadata": {},
   "outputs": [],
   "source": []
  },
  {
   "cell_type": "code",
   "execution_count": null,
   "id": "5f0faef2",
   "metadata": {},
   "outputs": [],
   "source": []
  }
 ],
 "metadata": {
  "kernelspec": {
   "display_name": "Python 3 (ipykernel)",
   "language": "python",
   "name": "python3"
  },
  "language_info": {
   "codemirror_mode": {
    "name": "ipython",
    "version": 3
   },
   "file_extension": ".py",
   "mimetype": "text/x-python",
   "name": "python",
   "nbconvert_exporter": "python",
   "pygments_lexer": "ipython3",
   "version": "3.10.9"
  }
 },
 "nbformat": 4,
 "nbformat_minor": 5
}
