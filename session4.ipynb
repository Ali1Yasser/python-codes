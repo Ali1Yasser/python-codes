{
 "cells": [
  {
   "cell_type": "code",
   "execution_count": 64,
   "id": "ae86a667",
   "metadata": {},
   "outputs": [],
   "source": [
    "class students:\n",
    "    count = 0\n",
    "    def __init__(self, name, age, num_of_enroll):\n",
    "        self.name = name\n",
    "        self.age = age\n",
    "        self.num_of_enroll = num_of_enroll\n",
    "        students.count += 1\n",
    "    def display (self):\n",
    "        print(self.name, self.age, self.num_of_enroll)\n",
    "    @classmethod\n",
    "    def enroll(cls):\n",
    "        print(cls.count)\n",
    "    @staticmethod\n",
    "    def stat():\n",
    "        print(\"list of courses\\n machine learning-Ai\")\n",
    "        \n",
    "    "
   ]
  },
  {
   "cell_type": "code",
   "execution_count": 65,
   "id": "9fadb16c",
   "metadata": {},
   "outputs": [],
   "source": [
    "stdn1 = students(\"Ali\",20,2)"
   ]
  },
  {
   "cell_type": "code",
   "execution_count": 60,
   "id": "a02923ad",
   "metadata": {},
   "outputs": [
    {
     "data": {
      "text/plain": [
       "<__main__.students at 0x2089d071330>"
      ]
     },
     "execution_count": 60,
     "metadata": {},
     "output_type": "execute_result"
    }
   ],
   "source": [
    "stdn1"
   ]
  },
  {
   "cell_type": "code",
   "execution_count": 61,
   "id": "7ddf2888",
   "metadata": {},
   "outputs": [],
   "source": [
    "stdn2 = students(\"Omar\",22,3)"
   ]
  },
  {
   "cell_type": "code",
   "execution_count": 62,
   "id": "c501dda7",
   "metadata": {},
   "outputs": [
    {
     "name": "stdout",
     "output_type": "stream",
     "text": [
      "Omar 22 3\n"
     ]
    }
   ],
   "source": [
    "stdn2.display()"
   ]
  },
  {
   "cell_type": "code",
   "execution_count": 63,
   "id": "0d9c258f",
   "metadata": {},
   "outputs": [
    {
     "ename": "NameError",
     "evalue": "name 'num_of_students' is not defined",
     "output_type": "error",
     "traceback": [
      "\u001b[1;31m---------------------------------------------------------------------------\u001b[0m",
      "\u001b[1;31mNameError\u001b[0m                                 Traceback (most recent call last)",
      "Cell \u001b[1;32mIn[63], line 1\u001b[0m\n\u001b[1;32m----> 1\u001b[0m stdn3 \u001b[38;5;241m=\u001b[39m \u001b[43mnum_of_students\u001b[49m\n",
      "\u001b[1;31mNameError\u001b[0m: name 'num_of_students' is not defined"
     ]
    }
   ],
   "source": [
    "stdn3 = num_of_students"
   ]
  },
  {
   "cell_type": "code",
   "execution_count": 42,
   "id": "139067e9",
   "metadata": {},
   "outputs": [],
   "source": [
    "class Dog:\n",
    "    count = 0\n",
    "    def __init__(self, name, age):\n",
    "        self.name = name\n",
    "        self.age = age\n",
    "        Dog.count+=1\n",
    "    def display(self):\n",
    "        print(\"Dog name: {},Dog age: {} count: {}\".format(self.name,self.age, Dog.count))\n",
    "    "
   ]
  },
  {
   "cell_type": "code",
   "execution_count": 43,
   "id": "e1ebc0df",
   "metadata": {},
   "outputs": [],
   "source": [
    "dog1 = Dog(\"Husky\", 4)"
   ]
  },
  {
   "cell_type": "code",
   "execution_count": 44,
   "id": "b1791e66",
   "metadata": {},
   "outputs": [],
   "source": [
    "dog2 = Dog(\"Woof\", 2)"
   ]
  },
  {
   "cell_type": "code",
   "execution_count": 45,
   "id": "057ddcf7",
   "metadata": {},
   "outputs": [],
   "source": [
    "dog3 = Dog(\"Cupcake\", 5)"
   ]
  },
  {
   "cell_type": "code",
   "execution_count": 46,
   "id": "ba0c8ae8",
   "metadata": {},
   "outputs": [
    {
     "name": "stdout",
     "output_type": "stream",
     "text": [
      "Dog name: Cupcake,Dog age: 5 count: 3\n"
     ]
    }
   ],
   "source": [
    "dog3.display()"
   ]
  },
  {
   "cell_type": "code",
   "execution_count": null,
   "id": "140583e5",
   "metadata": {},
   "outputs": [],
   "source": []
  }
 ],
 "metadata": {
  "kernelspec": {
   "display_name": "Python 3 (ipykernel)",
   "language": "python",
   "name": "python3"
  },
  "language_info": {
   "codemirror_mode": {
    "name": "ipython",
    "version": 3
   },
   "file_extension": ".py",
   "mimetype": "text/x-python",
   "name": "python",
   "nbconvert_exporter": "python",
   "pygments_lexer": "ipython3",
   "version": "3.10.9"
  }
 },
 "nbformat": 4,
 "nbformat_minor": 5
}
