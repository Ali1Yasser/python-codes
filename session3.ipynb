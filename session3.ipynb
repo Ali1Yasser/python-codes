{
 "cells": [
  {
   "cell_type": "code",
   "execution_count": 2,
   "id": "65a70744",
   "metadata": {},
   "outputs": [
    {
     "name": "stdout",
     "output_type": "stream",
     "text": [
      "FizzBuzz\n",
      "1\n",
      "2\n",
      "Fuzz\n",
      "4\n",
      "Buzz\n",
      "Fuzz\n",
      "7\n",
      "8\n",
      "Fuzz\n",
      "Buzz\n",
      "11\n",
      "Fuzz\n",
      "13\n",
      "14\n",
      "FizzBuzz\n",
      "16\n",
      "17\n",
      "Fuzz\n",
      "19\n",
      "Buzz\n",
      "Fuzz\n",
      "22\n",
      "23\n",
      "Fuzz\n",
      "Buzz\n",
      "26\n",
      "Fuzz\n",
      "28\n",
      "29\n",
      "FizzBuzz\n",
      "31\n",
      "32\n",
      "Fuzz\n",
      "34\n",
      "Buzz\n",
      "Fuzz\n",
      "37\n",
      "38\n",
      "Fuzz\n",
      "Buzz\n",
      "41\n",
      "Fuzz\n",
      "43\n",
      "44\n",
      "FizzBuzz\n",
      "46\n",
      "47\n",
      "Fuzz\n",
      "49\n",
      "Buzz\n",
      "Fuzz\n",
      "52\n",
      "53\n",
      "Fuzz\n",
      "Buzz\n",
      "56\n",
      "Fuzz\n",
      "58\n",
      "59\n",
      "FizzBuzz\n",
      "61\n",
      "62\n",
      "Fuzz\n",
      "64\n",
      "Buzz\n",
      "Fuzz\n",
      "67\n",
      "68\n",
      "Fuzz\n",
      "Buzz\n",
      "71\n",
      "Fuzz\n",
      "73\n",
      "74\n",
      "FizzBuzz\n",
      "76\n",
      "77\n",
      "Fuzz\n",
      "79\n",
      "Buzz\n",
      "Fuzz\n",
      "82\n",
      "83\n",
      "Fuzz\n",
      "Buzz\n",
      "86\n",
      "Fuzz\n",
      "88\n",
      "89\n",
      "FizzBuzz\n",
      "91\n",
      "92\n",
      "Fuzz\n",
      "94\n",
      "Buzz\n",
      "Fuzz\n",
      "97\n",
      "98\n",
      "Fuzz\n"
     ]
    }
   ],
   "source": [
    "for i in range(100):\n",
    "    if i%3==0 and i%5==0:\n",
    "        print(\"FizzBuzz\")\n",
    "    elif i%3==0:\n",
    "        print(\"Fuzz\")\n",
    "    elif i%5==0:\n",
    "        print(\"Buzz\")\n",
    "    else:\n",
    "        print(i)"
   ]
  },
  {
   "cell_type": "code",
   "execution_count": 3,
   "id": "299205d9",
   "metadata": {},
   "outputs": [
    {
     "name": "stdout",
     "output_type": "stream",
     "text": [
      "enter two-word string: kamdsi asdk\n"
     ]
    },
    {
     "data": {
      "text/plain": [
       "['kamdsi', 'asdk']"
      ]
     },
     "execution_count": 3,
     "metadata": {},
     "output_type": "execute_result"
    }
   ],
   "source": [
    "input1=input(\"enter two-word string: \")\n",
    "word1,word2=input1.split\n",
    "if word1[0]==word2[0]:\n",
    "    print(\"True\")\n",
    "else:\n",
    "    print(\"False\")"
   ]
  },
  {
   "cell_type": "code",
   "execution_count": 4,
   "id": "d7333d75",
   "metadata": {},
   "outputs": [
    {
     "name": "stdout",
     "output_type": "stream",
     "text": [
      "Ali Yasser\n"
     ]
    }
   ],
   "source": [
    "def present(f,l):\n",
    "    print(f+\" \"+l)\n",
    "present(\"Ali\",\"Yasser\")"
   ]
  },
  {
   "cell_type": "code",
   "execution_count": 6,
   "id": "4367b0e6",
   "metadata": {},
   "outputs": [
    {
     "name": "stdout",
     "output_type": "stream",
     "text": [
      "78.5\n"
     ]
    }
   ],
   "source": [
    "def area(r):\n",
    "    print(3.14*(r**2))\n",
    "area(5)"
   ]
  },
  {
   "cell_type": "code",
   "execution_count": 10,
   "id": "b23128aa",
   "metadata": {},
   "outputs": [
    {
     "data": {
      "text/plain": [
       "78.5"
      ]
     },
     "execution_count": 10,
     "metadata": {},
     "output_type": "execute_result"
    }
   ],
   "source": [
    "def circle_area(radius,pi=3.14):\n",
    "    area = pi*radius**2\n",
    "    return area\n",
    "circle_area(5)"
   ]
  },
  {
   "cell_type": "code",
   "execution_count": null,
   "id": "340a94be",
   "metadata": {},
   "outputs": [],
   "source": []
  },
  {
   "cell_type": "code",
   "execution_count": null,
   "id": "41f03856",
   "metadata": {},
   "outputs": [],
   "source": []
  },
  {
   "cell_type": "code",
   "execution_count": null,
   "id": "9c9bae2f",
   "metadata": {},
   "outputs": [],
   "source": []
  },
  {
   "cell_type": "code",
   "execution_count": null,
   "id": "28865418",
   "metadata": {},
   "outputs": [],
   "source": []
  },
  {
   "cell_type": "code",
   "execution_count": 6,
   "id": "e85bfc41",
   "metadata": {},
   "outputs": [
    {
     "name": "stdout",
     "output_type": "stream",
     "text": [
      "15\n"
     ]
    }
   ],
   "source": []
  },
  {
   "cell_type": "code",
   "execution_count": 7,
   "id": "679ec7ba",
   "metadata": {},
   "outputs": [
    {
     "name": "stdout",
     "output_type": "stream",
     "text": [
      "5\n"
     ]
    }
   ],
   "source": []
  },
  {
   "cell_type": "code",
   "execution_count": null,
   "id": "c99db771",
   "metadata": {},
   "outputs": [],
   "source": []
  }
 ],
 "metadata": {
  "kernelspec": {
   "display_name": "Python 3 (ipykernel)",
   "language": "python",
   "name": "python3"
  },
  "language_info": {
   "codemirror_mode": {
    "name": "ipython",
    "version": 3
   },
   "file_extension": ".py",
   "mimetype": "text/x-python",
   "name": "python",
   "nbconvert_exporter": "python",
   "pygments_lexer": "ipython3",
   "version": "3.10.9"
  }
 },
 "nbformat": 4,
 "nbformat_minor": 5
}
