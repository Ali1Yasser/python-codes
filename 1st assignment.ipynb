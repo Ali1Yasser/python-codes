{
 "cells": [
  {
   "cell_type": "markdown",
   "id": "7bdbb72f",
   "metadata": {},
   "source": [
    "# task list"
   ]
  },
  {
   "cell_type": "code",
   "execution_count": 1,
   "id": "7269af83",
   "metadata": {},
   "outputs": [
    {
     "name": "stdout",
     "output_type": "stream",
     "text": [
      "please enter the list while using comma seperation: 4,5,2,3\n"
     ]
    }
   ],
   "source": [
    "lis_in=input(\"please enter the list while using comma seperation: \")\n",
    "lis_in=lis_in.split(',')\n",
    "lis1=list(lis_in)"
   ]
  },
  {
   "cell_type": "code",
   "execution_count": 2,
   "id": "0354f476",
   "metadata": {},
   "outputs": [
    {
     "name": "stdout",
     "output_type": "stream",
     "text": [
      "enter an operation u want to make to the list: Sort\n"
     ]
    }
   ],
   "source": [
    "op=input(\"enter an operation u want to make to the list: \")\n",
    "com=op.lower()"
   ]
  },
  {
   "cell_type": "code",
   "execution_count": 3,
   "id": "778f0bee",
   "metadata": {},
   "outputs": [
    {
     "name": "stdout",
     "output_type": "stream",
     "text": [
      "['2', '3', '4', '5']\n"
     ]
    }
   ],
   "source": [
    "if com==\"insert\":\n",
    "    e=int(input(\"enter integer: \"))\n",
    "    i=int(input(\"enter position: \"))\n",
    "    lis1.insert(i,e)\n",
    "    print(lis1)\n",
    "elif com==\"print\":\n",
    "    print(lis1)\n",
    "elif com==\"remove\":\n",
    "    e=int(input(\"enter integer: \"))\n",
    "    lis1.remove(e)\n",
    "    print(lis1)\n",
    "elif com==\"append\": \n",
    "    e=int(input(\"enter integer: \"))\n",
    "    lis1.append(e)\n",
    "    print(lis1)\n",
    "elif com==\"sort\":\n",
    "    lis1.sort()\n",
    "    print(lis1)\n",
    "elif com==\"pop\":\n",
    "    lis1.pop()\n",
    "    print(lis1)\n",
    "elif com==\"reverse\":\n",
    "    lis1.reverse()\n",
    "    print(lis1)\n",
    "else :\n",
    "    print(\"please choose from these commands next time [insert-print-remove-append-sort-pop-reverse]\\nerror : 1\")"
   ]
  },
  {
   "cell_type": "markdown",
   "id": "47e75785",
   "metadata": {},
   "source": [
    "# task numbers"
   ]
  },
  {
   "cell_type": "code",
   "execution_count": 4,
   "id": "404ef54e",
   "metadata": {},
   "outputs": [
    {
     "name": "stdout",
     "output_type": "stream",
     "text": [
      "enter integer: 21\n",
      "Weird\n"
     ]
    }
   ],
   "source": [
    "n=int(input(\"enter integer: \"))\n",
    "if n%2==0:\n",
    "    if 2<=n<=5:\n",
    "        print(\"Not Weird\")\n",
    "    elif 6<=n<=20:\n",
    "        print(\"Weird\")\n",
    "    else:\n",
    "        print(\"Not Weird\")\n",
    "else:\n",
    "    print(\"Weird\")"
   ]
  }
 ],
 "metadata": {
  "kernelspec": {
   "display_name": "Python 3 (ipykernel)",
   "language": "python",
   "name": "python3"
  },
  "language_info": {
   "codemirror_mode": {
    "name": "ipython",
    "version": 3
   },
   "file_extension": ".py",
   "mimetype": "text/x-python",
   "name": "python",
   "nbconvert_exporter": "python",
   "pygments_lexer": "ipython3",
   "version": "3.10.9"
  }
 },
 "nbformat": 4,
 "nbformat_minor": 5
}
